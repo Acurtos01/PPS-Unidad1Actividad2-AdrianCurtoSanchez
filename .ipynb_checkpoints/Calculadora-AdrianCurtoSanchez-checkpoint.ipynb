{
 "cells": [
  {
   "cell_type": "markdown",
   "id": "6850bdb6-9d23-4c17-86d2-41616f36ed55",
   "metadata": {},
   "source": [
    "# Calculadora en Python"
   ]
  },
  {
   "cell_type": "markdown",
   "id": "844f9db7-4455-42ef-8251-ccc8380deb74",
   "metadata": {},
   "source": [
    "Comenzamos creando las funciones básicas:\n",
    "- suma: Suma de dos números.\n",
    "- resta: Resta de dos números\n",
    "- multiplicacion: Multiplicación de dos números.\n",
    "- division: División de dos números.\n",
    "- isNumber: Indica si el argumento introducido es un número o no.\n",
    "- mayorCero: indica si el número pasado es mayor que cero.\n"
   ]
  },
  {
   "cell_type": "code",
   "execution_count": null,
   "id": "bd96e3d7-5f6b-46ad-9414-d02e46f8ba2a",
   "metadata": {},
   "outputs": [],
   "source": [
    "def suma(a, b):\n",
    "    return a + b\n",
    "\n",
    "def resta(a, b):\n",
    "    return a - b\n",
    "\n",
    "def multiplicacion(a, b):\n",
    "    return a * b\n",
    "\n",
    "def division(a, b):\n",
    "    return a / b\n",
    "\n",
    "def is_number(a):\n",
    "    return instance(a, (int, float, complex))\n",
    "\n",
    "def mayor_cero(a):\n",
    "    return (a > 0)\n",
    "    "
   ]
  },
  {
   "cell_type": "markdown",
   "id": "bbad336d-d398-4711-867f-19ea7c33a926",
   "metadata": {},
   "source": [
    "Creamos el módulo principal del programa llamado `mi_modulo.py`."
   ]
  },
  {
   "cell_type": "code",
   "execution_count": null,
   "id": "76884886-cda0-4eed-806d-80dc6588c4ab",
   "metadata": {},
   "outputs": [],
   "source": [
    "%% Writefile mi_modulo.py\n",
    "\n",
    "def calculadora()\n",
    "    print(\"Seleccione una operación:\")\n",
    "    print(\"1. Suma\")\n",
    "    print(\"2. Resta\")\n",
    "    print(\"3. Multiplicación\")\n",
    "    print(\"4. División\")\n",
    "\n",
    "    operacion = input(\"Ingrese el número de la operación (1/2/3/4): \")\n",
    "\n",
    "    if operacion in ['1', '2', '3', '4']:\n",
    "        while True:\n",
    "            num1 = float(input(\"Ingrese el primer número: \"))\n",
    "            if !is_number(num1):\n",
    "                print(\"Por favor ingrese un número\")\n",
    "            else:\n",
    "                break\n",
    "\n",
    "        while True:\n",
    "            num2 = float(input(\"Ingrese el segundo número: \"))\n",
    "            if !is_number(num2):\n",
    "                print(\"Por favor ingrese un número\")\n",
    "                if !mayor_cero(num2):\n",
    "                    print(num1, \"no es divisible entre 0\")\n",
    "            else:\n",
    "                break\n",
    "\n",
    "        if operacion == '1':\n",
    "            print(\"Resultado:\", suma(num1, num2))\n",
    "        elif operacion == '2':\n",
    "            print(\"Resultado:\", resta(num1, num2))\n",
    "        elif operacion == '3':\n",
    "            print(\"Resultado:\", multiplicacion(num1, num2))\n",
    "        elif operacion == '4':\n",
    "            print(\"Resultado:\", division(num1, num2))\n",
    "    else:\n",
    "        print(\"Operación no válida\")\n",
    "\n",
    "if __name__ == \"__main__\":\n",
    "    calculadora()"
   ]
  }
 ],
 "metadata": {
  "kernelspec": {
   "display_name": "Python 3 (ipykernel)",
   "language": "python",
   "name": "python3"
  },
  "language_info": {
   "codemirror_mode": {
    "name": "ipython",
    "version": 3
   },
   "file_extension": ".py",
   "mimetype": "text/x-python",
   "name": "python",
   "nbconvert_exporter": "python",
   "pygments_lexer": "ipython3",
   "version": "3.12.8"
  }
 },
 "nbformat": 4,
 "nbformat_minor": 5
}
